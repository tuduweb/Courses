{
 "cells": [
  {
   "cell_type": "markdown",
   "metadata": {
    "id": "QaWeDxVxdNCt"
   },
   "source": [
    "# MSP算法\n",
    "\n",
    "by ZZH\n",
    "\n",
    "edit by bin"
   ]
  },
  {
   "cell_type": "code",
   "execution_count": 14,
   "metadata": {
    "id": "mafXQkR3dNCt"
   },
   "outputs": [],
   "source": [
    "# graph define\n",
    "class Edge:\n",
    "    def __init__(self, u, v, l):\n",
    "        self.u = u\n",
    "        self.v = v\n",
    "        self.l = l\n",
    "# 定义边集\n",
    "e = {\n",
    "    1: Edge('S', 1, 1),\n",
    "    2: Edge('S', 2, 1),\n",
    "    3: Edge(1, 3, 2),\n",
    "    4: Edge(2, 3, 2),\n",
    "    5: Edge(3, 4, 3),\n",
    "    6: Edge(3, 5, 3),\n",
    "    7: Edge(4, 7, 4),\n",
    "    8: Edge(5, 7, 4),\n",
    "    9: Edge(7, 'D', 5),\n",
    "    10: Edge(4, 6, 4),\n",
    "    11: Edge(5, 8, 4),\n",
    "    12: Edge(6, 'D', 5),\n",
    "    13: Edge(8, 'D', 5)\n",
    "}\n",
    "# 定义Lambda集合\n",
    "Lambda = {\n",
    "    1:  [e[1]],\n",
    "    2:  [e[2]],\n",
    "    3:  [e[1], e[2], e[3], e[4]],\n",
    "    4:  [e[1], e[3], e[5]],\n",
    "    5:  [e[2], e[4], e[6]],\n",
    "    6:  [e[1], e[3], e[5], e[10]],\n",
    "    7:  [e[12]],\n",
    "    8:  [e[1] ,e[3] ,e[6] ,e[8] ],\n",
    "    'D':[e[1] ,e[3] ,e[5] , e[10],e[12] ]\n",
    "}\n",
    "\n",
    "# # graph define error\n",
    "# class Edge:\n",
    "#     def __init__(self, u, v, l):\n",
    "#         self.u = u\n",
    "#         self.v = v\n",
    "#         self.l = l\n",
    "# # 定义边集\n",
    "# e = {\n",
    "#     1: Edge('S', 1, 1),\n",
    "#     2: Edge('S', 2, 1),\n",
    "#     3: Edge(1, 3, 2),\n",
    "#     4: Edge(2, 3, 2),\n",
    "#     5: Edge(3, 4, 3),\n",
    "#     6: Edge(3, 5, 3),\n",
    "#     7: Edge(4, 7, 4),\n",
    "#     8: Edge(5, 7, 4),\n",
    "#     9: Edge(7, 'D', 5),\n",
    "#     10: Edge(4, 6, 4),\n",
    "#     11: Edge(5, 8, 4),\n",
    "#     12: Edge(6, 'D', 5),\n",
    "#     13: Edge(8, 'D', 5)\n",
    "# }\n",
    "# # 定义Lambda集合\n",
    "# Lambda = {\n",
    "#     1:  [e[1]],\n",
    "#     2:  [e[2]],\n",
    "#     3:  [e[1], e[2], e[3], e[4]],\n",
    "#     4:  [e[1], e[3], e[5]],\n",
    "#     5:  [e[2], e[4], e[6]],\n",
    "#     6:  [e[1], e[3], e[5], e[6], e[10]],\n",
    "#     7:  [e[12]],\n",
    "#     8:  [e[1] ,e[2] ,e[3] ,e[4] ,e[5] ,e[6] ,e[7] ,e[8] ,e[9] ,e[10] ,e[11] ,e[12], e[13]],\n",
    "#     'D':[e[1] ,e[2] ,e[3] ,e[4] ,e[5] ,e[6] ,e[7] ,e[8] ,e[9] ,e[10] ,e[11] ,e[12] ,e[13]]\n",
    "# }"
   ]
  },
  {
   "cell_type": "code",
   "execution_count": 15,
   "metadata": {
    "id": "f-UcCUzWdNCt"
   },
   "outputs": [],
   "source": [
    "# tools\n",
    "def vTok(a):\n",
    "    # 通过value在字典中查找key\n",
    "    for k,v in e.items():\n",
    "        if v == a:\n",
    "            return k\n",
    "\n",
    "def vTol(v):\n",
    "    # 通过节点值在在图中寻找\n",
    "\n",
    "    for i in e:\n",
    "        if e[i].v == v:\n",
    "            return e[i].l\n",
    "    return 0\n",
    "\n",
    "def union(a, b):\n",
    "    return [i for i in a if i in b]"
   ]
  },
  {
   "cell_type": "code",
   "execution_count": 16,
   "metadata": {
    "id": "6udGCj44dNCu"
   },
   "outputs": [],
   "source": [
    "# 算子1\n",
    "def ES(lamd, u, v):\n",
    "    record = [u]\n",
    "    res1 = []\n",
    "    res2 = []\n",
    "    # 正向搜索\n",
    "    while len(record) != 0:\n",
    "        for i in record:\n",
    "            for ee in lamd:\n",
    "                if ee.u == i:\n",
    "                    res1.append(ee)\n",
    "                    record.append(ee.v)\n",
    "            record.remove(i)\n",
    "    \n",
    "    # 逆向搜索\n",
    "    record = [v]\n",
    "    while len(record) != 0:\n",
    "        for i in record:\n",
    "            for ee in lamd:\n",
    "                if ee.v == i:\n",
    "                    res2.append(ee)\n",
    "                    record.append(ee.u)\n",
    "            record.remove(i)\n",
    "    # 删除多余\n",
    "    res = [i for i in res1 if i in res2]\n",
    "    return res\n"
   ]
  },
  {
   "cell_type": "code",
   "execution_count": 17,
   "metadata": {
    "id": "Ozm_hRxKdNCu"
   },
   "outputs": [],
   "source": [
    "# 算子2\n",
    "def R(ee):\n",
    "    record = []\n",
    "    for key, value in Lambda.items():\n",
    "        if ee in value:\n",
    "            record.append(key)\n",
    "    R_res = []\n",
    "    for i in e:\n",
    "        if (e[i].u in record) and (e[i].v in record):\n",
    "            R_res.append(e[i])\n",
    "        \n",
    "    return ES(R_res, ee.v, 'D')"
   ]
  },
  {
   "cell_type": "code",
   "execution_count": 18,
   "metadata": {
    "id": "sDZjmWF2dNCu"
   },
   "outputs": [],
   "source": [
    "# 算子3\n",
    "def Comp(es, v):\n",
    "    ES_temp = es.copy()\n",
    "    l = vTol(v)\n",
    "    while 1:\n",
    "        for ee in ES_temp.copy():\n",
    "            #edit by bin\n",
    "            if ee.l == vTol('D'):\n",
    "                continue\n",
    "                \n",
    "            if ee.l < l: # ES(union(R(ee), ES_temp), ee.v, v)\n",
    "                # 如果为空，移除e\n",
    "                if len(ES(union(R(ee), ES_temp), ee.v, v)) == 0:\n",
    "                    ES_temp.remove(ee)\n",
    "            if ee.l == l:\n",
    "                if len(ES(R(ee), v, 'D')) == 0:\n",
    "                    ES_temp.remove(ee)\n",
    "        ES_res = ES(ES_temp, 'S', v)\n",
    "        # 重复step2 和 step3,如果ES_temp不在改变则终止，否则ES(ES_temp, 'S', v)赋值给ES_temp\n",
    "        if ES_res == ES_temp:\n",
    "            break\n",
    "        else:\n",
    "            ES_temp = ES_res\n",
    "    return ES_temp"
   ]
  },
  {
   "cell_type": "code",
   "execution_count": 19,
   "metadata": {
    "id": "apYhovUWXBiW"
   },
   "outputs": [
    {
     "data": {
      "text/plain": [
       "[1, 3, 5, 10, 12]"
      ]
     },
     "execution_count": 19,
     "metadata": {},
     "output_type": "execute_result"
    }
   ],
   "source": [
    "[vTok(a) for a in Comp([e[1], e[3], e[5], e[10], e[12]], 'D')]"
   ]
  },
  {
   "cell_type": "code",
   "execution_count": 20,
   "metadata": {
    "id": "EBYdkAOeWrdX"
   },
   "outputs": [
    {
     "name": "stdout",
     "output_type": "stream",
     "text": [
      "1 [3, 5, 10, 12]\n",
      "2 []\n",
      "3 [5, 10, 12]\n",
      "4 []\n",
      "5 [10, 12]\n",
      "6 []\n",
      "7 []\n",
      "8 []\n",
      "9 []\n",
      "10 [12]\n",
      "11 []\n",
      "12 []\n",
      "13 []\n"
     ]
    }
   ],
   "source": [
    "# 算子2测试(2)\n",
    "for i in e:\n",
    "    print(i,[vTok(a) for a in R(e[i])])"
   ]
  },
  {
   "cell_type": "code",
   "execution_count": 21,
   "metadata": {
    "id": "qqbvPTH4dNCv"
   },
   "outputs": [],
   "source": [
    "# 算子四\n",
    "def Change(u_v_l):\n",
    "    R_temp = R(u_v_l)\n",
    "    R_temp = R_temp.copy()\n",
    "    u = u_v_l.u\n",
    "    v = u_v_l.v\n",
    "    l = u_v_l.l\n",
    "    #print(\"level\", l)\n",
    "    E = [e[i] for i in e]\n",
    "    while 1:\n",
    "        for a_b_k in R_temp.copy():\n",
    "            if a_b_k.l > l and a_b_k.l <= vTol('D'):\n",
    "                ee = []\n",
    "                #limit_E =\n",
    "                #print(\"=====\")\n",
    "                for c_d_kk in E:\n",
    "                    if c_d_kk.l < l:\n",
    "                        #print(vTok(c_d_kk))\n",
    "                        # 参考论文\n",
    "                        ES_temp = ES(union(R(c_d_kk), Comp(Lambda[a_b_k.v], a_b_k.v)), c_d_kk.v, a_b_k.v)\n",
    "                        if (u_v_l in ES_temp) and (a_b_k in ES_temp):\n",
    "                            ee.append(c_d_kk)\n",
    "                \n",
    "                comp = Comp(ES(ee, 'S', u_v_l.u), u_v_l.u)\n",
    "                #print(\"comp\", [vTok(e) for e in comp], \"drop?\", len(comp) == 0)\n",
    "                if len(comp) == 0:\n",
    "                    R_temp.remove(a_b_k)\n",
    "        R_res = ES(R_temp, u_v_l.v, 'D')\n",
    "        if R_res == R_temp:\n",
    "            break\n",
    "        else:\n",
    "            R_temp = R_res\n",
    "\n",
    "    return R_temp"
   ]
  },
  {
   "cell_type": "code",
   "execution_count": 22,
   "metadata": {
    "colab": {
     "base_uri": "https://localhost:8080/"
    },
    "id": "TFfX92uUTlDF",
    "outputId": "7c64cd40-8cf1-40a0-8f46-8b5ca32280f4"
   },
   "outputs": [],
   "source": [
    "# 算子4测试\n",
    "# for i in e:\n",
    "#   print(i, [ vTok(ee) for ee in Change(e[i])])"
   ]
  },
  {
   "cell_type": "code",
   "execution_count": 23,
   "metadata": {
    "id": "sVajkSoZzNRv"
   },
   "outputs": [
    {
     "data": {
      "text/plain": [
       "[1, 2, 3, 4]"
      ]
     },
     "execution_count": 23,
     "metadata": {},
     "output_type": "execute_result"
    }
   ],
   "source": [
    "E = [e[i] for i in e]\n",
    "[vTok(c_d_kk) for c_d_kk in E if c_d_kk.l < 3]"
   ]
  },
  {
   "cell_type": "code",
   "execution_count": 24,
   "metadata": {
    "id": "NG4gb10sdNCv"
   },
   "outputs": [
    {
     "name": "stdout",
     "output_type": "stream",
     "text": [
      "[1, 3, 5, 10]\n",
      "[]\n",
      "[]\n",
      "[]\n"
     ]
    }
   ],
   "source": [
    "# (1)\n",
    "print([vTok(a) for a in ES(Lambda[6], 'S', 6)])\n",
    "print([vTok(a) for a in ES(Lambda[6], 'S', 7)])\n",
    "print([vTok(a) for a in ES(Lambda[6], 'S', 7)])\n",
    "print([vTok(a) for a in ES(Lambda[6], 4, 7)])"
   ]
  },
  {
   "cell_type": "code",
   "execution_count": 25,
   "metadata": {
    "id": "hk-1VsbedNCv"
   },
   "outputs": [
    {
     "name": "stdout",
     "output_type": "stream",
     "text": [
      "1 [1]\n",
      "2 []\n",
      "3 [1, 3]\n",
      "4 [1, 3, 5]\n",
      "5 []\n",
      "6 [1, 3, 5, 10]\n",
      "7 []\n",
      "8 []\n"
     ]
    }
   ],
   "source": [
    "# 算子3测试\n",
    "for i in [1,2,3,4,5,6,7,8]:\n",
    "  print(i, [vTok(a) for a in Comp(Lambda[i], i)])"
   ]
  },
  {
   "cell_type": "code",
   "execution_count": 26,
   "metadata": {},
   "outputs": [
    {
     "name": "stdout",
     "output_type": "stream",
     "text": [
      "1 []\n",
      "2 []\n",
      "3 [5, 10, 12]\n",
      "4 []\n",
      "5 [10, 12]\n",
      "6 []\n",
      "7 []\n",
      "8 []\n",
      "9 []\n",
      "10 [12]\n",
      "11 []\n",
      "12 []\n",
      "13 []\n"
     ]
    }
   ],
   "source": [
    "# 算子4测试\n",
    "for i in e:\n",
    "  print(i, [ vTok(ee) for ee in Change(e[i])])"
   ]
  },
  {
   "cell_type": "code",
   "execution_count": null,
   "metadata": {},
   "outputs": [],
   "source": []
  }
 ],
 "metadata": {
  "colab": {
   "collapsed_sections": [],
   "name": "msp.ipynb",
   "provenance": []
  },
  "kernelspec": {
   "display_name": "Python 3",
   "language": "python",
   "name": "python3"
  },
  "language_info": {
   "codemirror_mode": {
    "name": "ipython",
    "version": 3
   },
   "file_extension": ".py",
   "mimetype": "text/x-python",
   "name": "python",
   "nbconvert_exporter": "python",
   "pygments_lexer": "ipython3",
   "version": "3.8.3"
  }
 },
 "nbformat": 4,
 "nbformat_minor": 1
}
